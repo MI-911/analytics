{
 "cells": [
  {
   "cell_type": "code",
   "execution_count": 2,
   "metadata": {
    "collapsed": true,
    "pycharm": {
     "is_executing": false
    }
   },
   "outputs": [
    {
     "name": "stderr",
     "text": [
      "100%|██████████| 1500/1500 [01:35<00:00, 15.65it/s]\n",
      "100%|██████████| 1500/1500 [01:33<00:00, 15.98it/s]\n"
     ],
     "output_type": "stream"
    },
    {
     "data": {
      "text/plain": "<Figure size 432x288 with 1 Axes>",
      "image/png": "[encoded data removed]"
     },
     "metadata": {
      "needs_background": "light"
     },
     "output_type": "display_data"
    }
   ],
   "source": [
    "import json\n",
    "from collections import defaultdict\n",
    "from functools import reduce\n",
    "\n",
    "import matplotlib.pyplot as plt\n",
    "import numpy as np\n",
    "import pandas as pd\n",
    "import tqdm\n",
    "\n",
    "groups = ['Decade', 'Category', 'Movie', 'Company', 'Person']\n",
    "entities = pd.read_csv(f'../data/entities.csv')\n",
    "entities.labels = entities.labels.str.split('|')\n",
    "\n",
    "def get_median_frequencies(df):\n",
    "    df = df[df.sentiment != 0]\n",
    "    group_user_frequency = defaultdict(list)\n",
    "    \n",
    "    for user in tqdm.tqdm(list(set(df.userId))):\n",
    "        group_frequency = dict()\n",
    "        \n",
    "        for _, rating in df[df.userId == user].iterrows():\n",
    "            uri_labels = set(reduce(lambda a, b: a + b, entities[entities.uri == rating.uri].labels))\n",
    "            \n",
    "            for group in groups:\n",
    "                if group in uri_labels:\n",
    "                    group_frequency[group] = group_frequency.get(group, 0) + 1\n",
    "                    \n",
    "        for group, frequency in group_frequency.items():\n",
    "            group_user_frequency.setdefault(group, []).append(frequency)\n",
    "    \n",
    "    return [np.median(group_user_frequency[group]) for group in groups]\n",
    "\n",
    "fig, ax = plt.subplots()\n",
    "ind = np.arange(len(groups))\n",
    "\n",
    "width = 0.35\n",
    "ratings_file = json.load(open('../data/overview.json', 'r'))\n",
    "for idx, (name, file) in enumerate(ratings_file.items()):\n",
    "    ax.bar(ind + idx * width, get_median_frequencies(pd.read_csv(file)), width=width, label=name)\n",
    "\n",
    "ax.set_title('Median number of questions asked per user')\n",
    "ax.set_ylabel('Number of questions')\n",
    "ax.set_xticks(ind + width / 2)\n",
    "ax.set_xticklabels(groups)\n",
    "plt.legend()\n",
    "plt.savefig('figures/type_frequency.pdf', bbox_inches='tight')\n",
    "plt.show()\n",
    "    "
   ]
  }
 ],
 "metadata": {
  "kernelspec": {
   "display_name": "Python 3",
   "language": "python",
   "name": "python3"
  },
  "language_info": {
   "codemirror_mode": {
    "name": "ipython",
    "version": 2
   },
   "file_extension": ".py",
   "mimetype": "text/x-python",
   "name": "python",
   "nbconvert_exporter": "python",
   "pygments_lexer": "ipython2",
   "version": "2.7.6"
  },
  "pycharm": {
   "stem_cell": {
    "cell_type": "raw",
    "source": [],
    "metadata": {
     "collapsed": false
    }
   }
  }
 },
 "nbformat": 4,
 "nbformat_minor": 0
}