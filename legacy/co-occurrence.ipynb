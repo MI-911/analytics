{
 "cells": [
  {
   "cell_type": "code",
   "source": [
    "import pandas as pd\n",
    "import matplotlib.pyplot as plt\n",
    "from matplotlib.ticker import MultipleLocator, FormatStrFormatter, AutoMinorLocator\n",
    "import numpy as np\n",
    "from tqdm.notebook import tqdm_notebook\n",
    "base_path = '../data'"
   ],
   "metadata": {
    "collapsed": false,
    "pycharm": {
     "name": "#%% \n",
     "is_executing": false
    }
   },
   "execution_count": 3,
   "outputs": []
  },
  {
   "cell_type": "code",
   "execution_count": 4,
   "outputs": [
    {
     "name": "stdout",
     "text": [
      "100836\n",
      "60894136\n",
      "30396650\n",
      "13157672\n",
      "181\n"
     ],
     "output_type": "stream"
    },
    {
     "data": {
      "text/plain": "<Figure size 432x288 with 1 Axes>",
      "image/png": "[encoded data removed]"
     },
     "metadata": {
      "needs_background": "light"
     },
     "output_type": "display_data"
    }
   ],
   "source": [
    "ratings = pd.read_csv(f'{base_path}/ratings_movielens.csv')\n",
    "\n",
    "u_e = ratings[['userId', 'movieId']]\n",
    "print(len(u_e))\n",
    "pairs = pd.merge(u_e, u_e, on='userId', how='outer')\n",
    "print(len(pairs))\n",
    "pairs = pairs[pairs.movieId_x < pairs.movieId_y]\n",
    "print(len(pairs))\n",
    "pairs = pairs.groupby(['movieId_x', 'movieId_y']).size().reset_index().rename(columns={0:'n_co-rated'})\n",
    "print(len(pairs))\n",
    "pairs = pairs[['n_co-rated']].groupby(['n_co-rated']).size().reset_index().rename(columns={0:'t'})\n",
    "print(len(pairs))\n",
    "pairs = pairs[20:]\n",
    "plt.bar(pairs['n_co-rated'], pairs['t'])\n",
    "plt.show()\n"
   ],
   "metadata": {
    "collapsed": false,
    "pycharm": {
     "name": "#%%\n",
     "is_executing": false
    }
   }
  },
  {
   "cell_type": "code",
   "execution_count": 5,
   "outputs": [
    {
     "name": "stdout",
     "text": [
      "100836\n",
      "2911932\n",
      "    userId_x  movieId  userId_y\n",
      "1          1        1         5\n",
      "2          1        1         7\n",
      "3          1        1        15\n",
      "4          1        1        17\n",
      "5          1        1        18\n",
      "6          1        1        19\n",
      "7          1        1        21\n",
      "8          1        1        27\n",
      "9          1        1        31\n",
      "10         1        1        32\n",
      "         userId_x  movieId  userId_y\n",
      "420951          1      333         2\n",
      "2051117         1     3578         2\n",
      "164054\n",
      "   userId_x  userId_y  n_co-rated\n",
      "0         1         2           2\n",
      "1         1         3           7\n",
      "2         1         4          45\n",
      "3         1         5          13\n",
      "4         1         6          33\n",
      "5         1         7          26\n",
      "6         1         8          15\n",
      "7         1         9           5\n",
      "8         1        10           6\n",
      "9         1        11          16\n",
      "490\n",
      "   n_co-rated      t\n",
      "0           1  18010\n",
      "1           2  14895\n",
      "2           3  12373\n",
      "3           4  10574\n",
      "4           5   9027\n",
      "5           6   7599\n",
      "6           7   6735\n",
      "7           8   6036\n",
      "8           9   5432\n",
      "9          10   4783\n"
     ],
     "output_type": "stream"
    },
    {
     "data": {
      "text/plain": "<Figure size 432x288 with 1 Axes>",
      "image/png": "[encoded data removed]"
     },
     "metadata": {
      "needs_background": "light"
     },
     "output_type": "display_data"
    }
   ],
   "source": [
    "ratings = pd.read_csv(f'{base_path}/ratings_movielens.csv')\n",
    "\n",
    "movie_column = 'movieId'\n",
    "\n",
    "u_e = ratings[['userId', movie_column]]\n",
    "print(len(u_e))\n",
    "\n",
    "pairs = pd.merge(u_e, u_e, on=movie_column, how='outer')\n",
    "pairs = pairs[pairs.userId_x < pairs.userId_y]\n",
    "print(len(pairs))\n",
    "print(pairs[:10])\n",
    "print(pairs[(pairs['userId_x'] == 1) & (pairs['userId_y'] == 2)])\n",
    "pairs = pairs.groupby(['userId_x', 'userId_y']).size().reset_index().rename(columns={0:'n_co-rated'})\n",
    "p_average = pairs['n_co-rated'].mean()\n",
    "p_median = pairs['n_co-rated'].median()\n",
    "print(len(pairs))\n",
    "\n",
    "print(pairs[:10])\n",
    "pairs = pairs[['n_co-rated']].groupby(['n_co-rated']).size().reset_index().rename(columns={0:'t'})\n",
    "print(len(pairs))\n",
    "print(pairs[:10])\n",
    "pairs =pairs[:88]\n",
    "fig, axes = plt.subplots(nrows=1)\n",
    "axes.grid(True, 'major', 'y')\n",
    "\n",
    "axes.xaxis.set_major_locator(MultipleLocator(6))\n",
    "axes.xaxis.set_major_formatter(FormatStrFormatter('%d'))\n",
    "axes.xaxis.set_minor_locator(MultipleLocator(3))\n",
    "\n",
    "\n",
    "axes.yaxis.set_major_locator(MultipleLocator(4000))\n",
    "axes.yaxis.set_major_formatter(FormatStrFormatter('%d'))\n",
    "axes.yaxis.set_minor_locator(MultipleLocator(2000))\n",
    "\n",
    "axes.set_xlabel('Number of co-rated items')\n",
    "axes.set_ylabel('Total number of pairs')\n",
    "axes.set_axisbelow(True)\n",
    "\n",
    "plt.bar(pairs['n_co-rated'], pairs['t'], color='orange')\n",
    "plt.axvline(p_average, color='k', linestyle='dashed', linewidth=1)\n",
    "plt.axvline(p_median, color='k', linestyle='dashdot', linewidth=1)\n",
    "axes.set_xlim([0, None])\n",
    "plt.title('MovieLens' if movie_column == 'movieId' else 'MindReader')\n",
    "\n",
    "plt.savefig('co-occurance-user.pdf', bbox_inches='tight')\n",
    "\n",
    "plt.show()\n"
   ],
   "metadata": {
    "collapsed": false,
    "pycharm": {
     "name": "#%%\n",
     "is_executing": false
    }
   }
  },
  {
   "cell_type": "code",
   "execution_count": 10,
   "outputs": [
    {
     "name": "stdout",
     "text": [
      "29515\n",
      "590557\n",
      "280521\n",
      "Empty DataFrame\n",
      "Columns: [userId, uri_x, uri_y]\n",
      "Index: []\n",
      "148205\n"
     ],
     "output_type": "stream"
    },
    {
     "data": {
      "text/plain": "<Figure size 432x288 with 1 Axes>",
      "image/png": "[encoded data removed]"
     },
     "metadata": {
      "needs_background": "light"
     },
     "output_type": "display_data"
    },
    {
     "data": {
      "text/plain": "<Figure size 432x288 with 1 Axes>",
      "image/png": "[encoded data removed]"
     },
     "metadata": {
      "needs_background": "light"
     },
     "output_type": "display_data"
    }
   ],
   "source": [
    "mode = 'DE'\n",
    "\n",
    "ratings = pd.read_csv(f'/home/anders/Downloads/ratings-ppr.csv')\n",
    "ratings = ratings[ratings.sentiment != 0]\n",
    "ratings = ratings[ratings.isItem] if mode == 'RE' else ratings[~ratings.isItem]\n",
    "\n",
    "movie_column = 'uri'\n",
    "groupon = movie_column\n",
    "\n",
    "u_e = ratings[['userId', movie_column]]\n",
    "print(len(u_e))\n",
    "\n",
    "pairs = pd.merge(u_e, u_e, on=('userId' if groupon == movie_column else movie_column), how='outer')\n",
    "del u_e\n",
    "print(len(pairs))\n",
    "pairs = pairs[pairs[f'{groupon}_x'] < pairs[f'{groupon}_y']]\n",
    "print(len(pairs))\n",
    "print(pairs[(pairs[f'{groupon}_x'] == 1) & (pairs[f'{groupon}_y'] == 2)])\n",
    "pairs = pairs.groupby([f'{groupon}_x', f'{groupon}_y']).size().reset_index().rename(columns={0:'n_co-rated'})\n",
    "p_average = pairs['n_co-rated'].mean()\n",
    "p_median = pairs['n_co-rated'].median()\n",
    "print(len(pairs))\n",
    "\n",
    "pairs = pairs[['n_co-rated']].groupby(['n_co-rated']).size().reset_index().rename(columns={0:'t'})\n",
    "#pairs =pairs[:88]\n",
    "\n",
    "plt.plot(pairs['n_co-rated'], pairs['t'], color='orange')\n",
    "plt.show()\n",
    "fig, axes = plt.subplots(nrows=1)\n",
    "axes.grid(True, 'major', 'y')\n",
    "\n",
    "axes.set_yscale('log')\n",
    "#axes.set_xscale('log')\n",
    "\n",
    "axes.set_xlabel(f'Number of co-rated {mode}s' if groupon != movie_column else 'Number of co-rated users')\n",
    "axes.set_ylabel(f'User pairs with co-rated {mode}s' if groupon != movie_column else f'{mode} pairs with co-rated users')\n",
    "axes.set_axisbelow(True)\n",
    "\n",
    "plt.bar(pairs['n_co-rated'], pairs['t'], color='orange')\n",
    "# plt.plot(pairs['n_co-rated'], pairs['t'], color='blue')\n",
    "\n",
    "plt.axvline(p_average, color='k', linestyle='dashed', linewidth=1, label=f'Average: {p_average:.2f}')\n",
    "plt.axvline(p_median, color='k', linestyle='dashdot', linewidth=1, label=f'Median: {p_median:.2f}')\n",
    "\n",
    "#axes.set_xlim([0.5, 80])\n",
    "plt.title('MovieLens' if movie_column == 'movieId' else f'Co-rated {mode}s among user pairs')\n",
    "plt.legend()\n",
    "\n",
    "fig_name = f\"co-occurrence-{'user' if groupon == movie_column else 'movie'}-{mode}.pdf\"\n",
    "plt.savefig(fig_name, bbox_inches='tight')\n",
    "\n",
    "plt.show()\n"
   ],
   "metadata": {
    "collapsed": false,
    "pycharm": {
     "name": "#%%\n",
     "is_executing": false
    }
   }
  }
 ],
 "metadata": {
  "kernelspec": {
   "display_name": "Python 3",
   "language": "python",
   "name": "python3"
  },
  "language_info": {
   "codemirror_mode": {
    "name": "ipython",
    "version": 2
   },
   "file_extension": ".py",
   "mimetype": "text/x-python",
   "name": "python",
   "nbconvert_exporter": "python",
   "pygments_lexer": "ipython2",
   "version": "2.7.6"
  },
  "pycharm": {
   "stem_cell": {
    "cell_type": "raw",
    "source": [],
    "metadata": {
     "collapsed": false
    }
   }
  }
 },
 "nbformat": 4,
 "nbformat_minor": 0
}